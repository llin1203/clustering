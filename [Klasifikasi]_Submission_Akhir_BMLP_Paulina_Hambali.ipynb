{
  "nbformat": 4,
  "nbformat_minor": 0,
  "metadata": {
    "colab": {
      "provenance": []
    },
    "kernelspec": {
      "name": "python3",
      "display_name": "Python 3"
    },
    "language_info": {
      "name": "python"
    }
  },
  "cells": [
    {
      "cell_type": "markdown",
      "source": [
        "# **1. Import Library**"
      ],
      "metadata": {
        "id": "fKADPWcFKlj3"
      }
    },
    {
      "cell_type": "markdown",
      "source": [
        "Pada tahap ini, Anda perlu mengimpor beberapa pustaka (library) Python yang dibutuhkan untuk analisis data dan pembangunan model machine learning."
      ],
      "metadata": {
        "id": "LgA3ERnVn84N"
      }
    },
    {
      "cell_type": "code",
      "source": [
        "#LibraryImport\n",
        "import pandas as pd\n",
        "from sklearn.model_selection import train_test_split\n",
        "from sklearn.linear_model import LogisticRegression\n",
        "from sklearn.metrics import accuracy_score, classification_report, confusion_matrix\n",
        "from sklearn.ensemble import RandomForestClassifier\n",
        "from sklearn.model_selection import *\n",
        "import seaborn as sns\n",
        "import matplotlib.pyplot as plt"
      ],
      "metadata": {
        "id": "BlmvjLY9M4Yj"
      },
      "execution_count": 1,
      "outputs": []
    },
    {
      "cell_type": "markdown",
      "source": [
        "# **2. Memuat Dataset dari Hasil Clustering**"
      ],
      "metadata": {
        "id": "f3YIEnAFKrKL"
      }
    },
    {
      "cell_type": "markdown",
      "source": [
        "Memuat dataset hasil clustering dari file CSV ke dalam variabel DataFrame."
      ],
      "metadata": {
        "id": "Ey3ItwTen_7E"
      }
    },
    {
      "cell_type": "code",
      "source": [
        "#MemuatDataset\n",
        "dataset = pd.read_csv(\"Dataset_inisiasi.csv\")\n",
        "print(dataset.head())"
      ],
      "metadata": {
        "id": "GHCGNTyrM5fS",
        "colab": {
          "base_uri": "https://localhost:8080/"
        },
        "outputId": "5f125e63-745f-4ff3-ee48-d2c6e6589c6d"
      },
      "execution_count": 2,
      "outputs": [
        {
          "output_type": "stream",
          "name": "stdout",
          "text": [
            "   TransactionAmount  CustomerAge CustomerOccupation  LoginAttempts  \\\n",
            "0              14.09           70             Doctor              1   \n",
            "1             376.24           68             Doctor              1   \n",
            "2             126.29           19            Student              1   \n",
            "3             184.50           26            Student              1   \n",
            "4              13.45           26            Student              1   \n",
            "\n",
            "   AccountBalance  Cluster  \n",
            "0         5112.21        0  \n",
            "1        13758.91        2  \n",
            "2         1122.35        1  \n",
            "3         8569.06        0  \n",
            "4         7429.40        0  \n"
          ]
        }
      ]
    },
    {
      "cell_type": "markdown",
      "source": [
        "# **3. Data Splitting**"
      ],
      "metadata": {
        "id": "KkPem5eWL2UP"
      }
    },
    {
      "cell_type": "markdown",
      "source": [
        "Tahap Data Splitting bertujuan untuk memisahkan dataset menjadi dua bagian: data latih (training set) dan data uji (test set)."
      ],
      "metadata": {
        "id": "YYj1rl_JNI9Y"
      }
    },
    {
      "cell_type": "code",
      "source": [
        "#DataSplitting: AccountBalance and LoginAttempts\n",
        "X = dataset[[\"AccountBalance\", \"CustomerAge\"]]\n",
        "y = dataset[\"Cluster\"]\n",
        "X_train, X_test, y_train, y_test = train_test_split(X, y, test_size=0.3, random_state=42)\n",
        "print(f\"Training-data size: {X_train.shape}, Test-data size: {X_test.shape}\")"
      ],
      "metadata": {
        "id": "OubAW-7ONKVj",
        "colab": {
          "base_uri": "https://localhost:8080/"
        },
        "outputId": "a2eadbdc-74d3-403c-f6e8-0e2a138cf343"
      },
      "execution_count": 3,
      "outputs": [
        {
          "output_type": "stream",
          "name": "stdout",
          "text": [
            "Training-data size: (1597, 2), Test-data size: (685, 2)\n"
          ]
        }
      ]
    },
    {
      "cell_type": "markdown",
      "source": [
        "# **4. Membangun Model Klasifikasi**\n"
      ],
      "metadata": {
        "id": "IVPbB03CMhTT"
      }
    },
    {
      "cell_type": "markdown",
      "source": [
        "## **a. Membangun Model Klasifikasi**"
      ],
      "metadata": {
        "id": "Ned1pL9zMmBK"
      }
    },
    {
      "cell_type": "markdown",
      "source": [
        "Setelah memilih algoritma klasifikasi yang sesuai, langkah selanjutnya adalah melatih model menggunakan data latih.\n",
        "\n",
        "Berikut adalah rekomendasi tahapannya.\n",
        "1. Pilih algoritma klasifikasi yang sesuai, seperti Logistic Regression, Decision Tree, Random Forest, atau K-Nearest Neighbors (KNN).\n",
        "2. Latih model menggunakan data latih."
      ],
      "metadata": {
        "id": "WAWzPOE4Nkti"
      }
    },
    {
      "cell_type": "code",
      "source": [
        "#LogisticRegression\n",
        "model = LogisticRegression(random_state=40, max_iter=1000)\n",
        "model.fit(X_train, y_train)\n",
        "y_pred = model.predict(X_test)"
      ],
      "metadata": {
        "id": "4JYxBe87NLDk"
      },
      "execution_count": 4,
      "outputs": []
    },
    {
      "cell_type": "markdown",
      "source": [
        "**Penjelasan Algoritma Logisctic Regression**\n",
        "\n",
        "Logistic Regression merupakan model klasifikasi biner atau multikelas yang sederhana dan mudah dipahami. Model ini mempelajari hubungan linear antara fitur dan target menggunakan fungsi logistik."
      ],
      "metadata": {
        "id": "seYoHNY3XU1y"
      }
    },
    {
      "cell_type": "markdown",
      "source": [
        "## **b. Evaluasi Model Klasifikasi**"
      ],
      "metadata": {
        "id": "ergzChZFEL-O"
      }
    },
    {
      "cell_type": "markdown",
      "source": [
        "Berikut adalah **rekomendasi** tahapannya.\n",
        "1. Lakukan prediksi menggunakan data uji.\n",
        "2. Hitung metrik evaluasi seperti Accuracy dan F1-Score (Opsional: Precision dan Recall).\n",
        "3. Buat confusion matrix untuk melihat detail prediksi benar dan salah."
      ],
      "metadata": {
        "id": "zOm68u-7NpLT"
      }
    },
    {
      "cell_type": "code",
      "source": [
        "#EvaluasiModel\n",
        "accuracy = accuracy_score(y_test, y_pred)\n",
        "print(f\"Accuracy: {accuracy:.3f}\")\n",
        "print(\"Classification:\")\n",
        "print(classification_report(y_test, y_pred))"
      ],
      "metadata": {
        "id": "tMq4QAssNLip",
        "colab": {
          "base_uri": "https://localhost:8080/"
        },
        "outputId": "27db4252-de71-4459-eb90-89eac8f9d0ab"
      },
      "execution_count": 5,
      "outputs": [
        {
          "output_type": "stream",
          "name": "stdout",
          "text": [
            "Accuracy: 0.999\n",
            "Classification:\n",
            "              precision    recall  f1-score   support\n",
            "\n",
            "           0       1.00      1.00      1.00       245\n",
            "           1       1.00      1.00      1.00       335\n",
            "           2       0.99      1.00      1.00       105\n",
            "\n",
            "    accuracy                           1.00       685\n",
            "   macro avg       1.00      1.00      1.00       685\n",
            "weighted avg       1.00      1.00      1.00       685\n",
            "\n"
          ]
        }
      ]
    },
    {
      "cell_type": "code",
      "source": [
        "# Confusion Matrix\n",
        "cm = confusion_matrix(y_test, y_pred)\n",
        "sns.heatmap(cm, annot=True, fmt=\"d\", cmap=\"Blues\", xticklabels=[0, 1, 2], yticklabels=[0, 1, 2])\n",
        "plt.xlabel('Predicted')\n",
        "plt.ylabel('True')\n",
        "plt.title('Confusion Matrix')\n",
        "plt.show()"
      ],
      "metadata": {
        "colab": {
          "base_uri": "https://localhost:8080/",
          "height": 472
        },
        "id": "bnIpBjSbX4cH",
        "outputId": "91fbe323-7fb1-426e-8c20-6a3c54dcdc8d"
      },
      "execution_count": 6,
      "outputs": [
        {
          "output_type": "display_data",
          "data": {
            "text/plain": [
              "<Figure size 640x480 with 2 Axes>"
            ],
            "image/png": "[encoded data removed]"
          },
          "metadata": {}
        }
      ]
    },
    {
      "cell_type": "markdown",
      "source": [
        "Hanya menggunakan Logistic Regression untuk algoritmanya. Hasil evaluasi:\n",
        "\n",
        "**score accuracy** menunjuk pada angka **0.99** atau **99%** yang menandakan semua prediksi dibuat model adalah benar, atau model dapat memprediksi dengan akurat dari data yang digunakan. Pada confussion matrix, tidak dijumpai **nilai negatif** menandakan sudah baik dalam memprediksi."
      ],
      "metadata": {
        "id": "H4_9OwrsXZlz"
      }
    },
    {
      "cell_type": "markdown",
      "source": [
        "## **c. Tuning Model Klasifikasi (Optional)**"
      ],
      "metadata": {
        "id": "ph9yIYDXEPuB"
      }
    },
    {
      "cell_type": "markdown",
      "source": [
        "Gunakan GridSearchCV, RandomizedSearchCV, atau metode lainnya untuk mencari kombinasi hyperparameter terbaik"
      ],
      "metadata": {
        "id": "-Bikx3LINv5e"
      }
    },
    {
      "cell_type": "code",
      "source": [
        "#GridSearchCV\n",
        "param_grid = {\n",
        "    \"n_estimators\": [50, 100, 200],\n",
        "    \"max_depth\": [10, 20, 30],\n",
        "    \"min_samples_split\": [2, 5, 10]\n",
        "}\n",
        "grid_search = GridSearchCV(RandomForestClassifier(random_state=40), param_grid, cv=5)\n",
        "grid_search.fit(X_train, y_train)\n",
        "print(f\"Best-Parameters: {grid_search.best_params_}\")\n",
        "print(f\"Best Cross-Validation Score: {grid_search.best_score_}\")"
      ],
      "metadata": {
        "id": "winbFzb8NL95",
        "colab": {
          "base_uri": "https://localhost:8080/"
        },
        "outputId": "fb70ff00-93fb-4b63-af4e-d072c427215a"
      },
      "execution_count": 7,
      "outputs": [
        {
          "output_type": "stream",
          "name": "stdout",
          "text": [
            "Best-Parameters: {'max_depth': 10, 'min_samples_split': 2, 'n_estimators': 50}\n",
            "Best Cross-Validation Score: 0.9981210815047022\n"
          ]
        }
      ]
    },
    {
      "cell_type": "markdown",
      "source": [
        "## **d. Evaluasi Model Klasifikasi setelah Tuning (Optional)**"
      ],
      "metadata": {
        "id": "hE7pqlEPEYzI"
      }
    },
    {
      "cell_type": "markdown",
      "source": [
        "Berikut adalah rekomendasi tahapannya.\n",
        "1. Gunakan model dengan hyperparameter terbaik.\n",
        "2. Hitung ulang metrik evaluasi untuk melihat apakah ada peningkatan performa."
      ],
      "metadata": {
        "id": "feaPESoeN0zz"
      }
    },
    {
      "cell_type": "code",
      "source": [
        "#EvaluasiModelTuning\n",
        "best_rf_model = grid_search.best_estimator_\n",
        "y_pred_after_tuning = best_rf_model.predict(X_test)\n",
        "accuracy_after_tuning = accuracy_score(y_test, y_pred_after_tuning)\n",
        "print(f\"Accuracy setelah tuning: {accuracy_after_tuning}\")"
      ],
      "metadata": {
        "id": "HTXZRvEeNMb1",
        "colab": {
          "base_uri": "https://localhost:8080/"
        },
        "outputId": "9ae41e0a-5c7b-4fda-8a0c-3aa534d56f89"
      },
      "execution_count": 8,
      "outputs": [
        {
          "output_type": "stream",
          "name": "stdout",
          "text": [
            "Accuracy setelah tuning: 0.9985401459854014\n"
          ]
        }
      ]
    },
    {
      "cell_type": "code",
      "source": [
        "#ConfussionMatrix\n",
        "cm_best = confusion_matrix(y_test, y_pred_after_tuning)\n",
        "sns.heatmap(cm_best, annot=True, fmt=\"d\", cmap=\"Blues\", xticklabels=[0, 1, 2], yticklabels=[0, 1, 2])\n",
        "plt.xlabel('Predicted')\n",
        "plt.ylabel('True')\n",
        "plt.title('Confusion Matrix (Tuned Model)')\n",
        "plt.show()"
      ],
      "metadata": {
        "colab": {
          "base_uri": "https://localhost:8080/",
          "height": 472
        },
        "id": "e0sjJ_sbabAm",
        "outputId": "7563a809-b762-4f96-891c-c4650560b50f"
      },
      "execution_count": 9,
      "outputs": [
        {
          "output_type": "display_data",
          "data": {
            "text/plain": [
              "<Figure size 640x480 with 2 Axes>"
            ],
            "image/png": "[encoded data removed]"
          },
          "metadata": {}
        }
      ]
    },
    {
      "cell_type": "code",
      "source": [
        "#Before vs After Tuning\n",
        "print(\"Classification Report Before-Tuning:\")\n",
        "print(classification_report(y_test, y_pred))\n",
        "print(\"\\nClassification Report After-Tuning:\")\n",
        "print(classification_report(y_test, y_pred_after_tuning))"
      ],
      "metadata": {
        "colab": {
          "base_uri": "https://localhost:8080/"
        },
        "id": "uPxES4W0dBSu",
        "outputId": "2b523409-b85e-47fd-e806-f05f30bd4990"
      },
      "execution_count": 10,
      "outputs": [
        {
          "output_type": "stream",
          "name": "stdout",
          "text": [
            "Classification Report Before-Tuning:\n",
            "              precision    recall  f1-score   support\n",
            "\n",
            "           0       1.00      1.00      1.00       245\n",
            "           1       1.00      1.00      1.00       335\n",
            "           2       0.99      1.00      1.00       105\n",
            "\n",
            "    accuracy                           1.00       685\n",
            "   macro avg       1.00      1.00      1.00       685\n",
            "weighted avg       1.00      1.00      1.00       685\n",
            "\n",
            "\n",
            "Classification Report After-Tuning:\n",
            "              precision    recall  f1-score   support\n",
            "\n",
            "           0       1.00      1.00      1.00       245\n",
            "           1       1.00      1.00      1.00       335\n",
            "           2       0.99      1.00      1.00       105\n",
            "\n",
            "    accuracy                           1.00       685\n",
            "   macro avg       1.00      1.00      1.00       685\n",
            "weighted avg       1.00      1.00      1.00       685\n",
            "\n"
          ]
        }
      ]
    },
    {
      "cell_type": "markdown",
      "source": [
        "**score accuracy** menunjuk pada angka **0.98 yang menandakan semua prediksi dibuat model adalah benar, atau model dapat memprediksi dengan akurat dari data yang digunakan. Pada confussion matrix, tidak dijumpai **nilai negatif** dan hasil true terlihat menandakan sudah baik dalam memprediksi."
      ],
      "metadata": {
        "id": "r2Q35Lh6a0GY"
      }
    },
    {
      "cell_type": "markdown",
      "source": [
        "## **e. Analisis Hasil Evaluasi Model Klasifikasi**"
      ],
      "metadata": {
        "id": "ZRsOdm4uEgAW"
      }
    },
    {
      "cell_type": "markdown",
      "source": [
        "Berikut adalah **rekomendasi** tahapannya.\n",
        "1. Bandingkan hasil evaluasi sebelum dan setelah tuning (jika dilakukan).\n",
        "**Sebelum Tuning** akurasi model pada 0.99 yang menunjukan model cukup akurat untuk memprediksi data uji. **Setelah tuning** akurasi turun menjadi 0.98 tetapi best-cross-validation 1.0 menunjukan model ini mampu memberikan hasil sempurna (100%) selama cross-validation dan menjadikan model ini lebih stabil.\n",
        "\n",
        "2. Identifikasi kelemahan model, seperti:\n",
        "  - Precision atau Recall rendah untuk kelas tertentu.\n",
        "  - Apakah model mengalami overfitting atau underfitting?\n",
        "\n",
        "  **Sebelum Tuning** precision atau recall memiliki rata-rata 1.0, namun ada pada cluster kedua 0.99, rata-rata tersebut sudah baik karena mendekati 1.0. **Setelah Tuning** didapatkan rata-rata sama, yakni 1.0 dan cluster kedua tetap 0.9, menandakan sudah sangat baik namun tidak mengalami peningkatan(nilai merata).\n",
        "\n",
        "  **Model sebelum tuning dikatakan tidak mengalami overfitting karena akurasi model 0.99 (mendekati 1.0) diseluruh kelas. Model setelah tuning cenderung overfitting karena akurasi model menurun menjadi 0.98.**\n",
        "\n",
        "3. Berikan rekomendasi tindakan lanjutan, seperti mengumpulkan data tambahan atau mencoba algoritma lain jika hasil belum memuaskan.\n",
        "\n",
        "Rekomendasi tindakan lanjutan, bisa diterapkan algoritma lain seperti Gradient Boosting untuk meningkatkan performa model (tetapi hasil dari logistic regression sudah sangat baik), namun model ini cocok untuk pola kompleks.\n",
        "\n",
        "**Kaitan dengan Cluster(Data Splitting) yakni score atau accuracy yang tinggi menunjukan bahwa accountbalance dan customerage merupakan variabel yang relevan dalam memprediksi cluster dan juga mempengaruhi pembagian dalam cluster.**"
      ],
      "metadata": {
        "id": "Hm3BhSi6N4_l"
      }
    }
  ]
}